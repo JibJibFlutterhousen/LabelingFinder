{
 "cells": [
  {
   "cell_type": "code",
   "execution_count": 1,
   "id": "a449fed8",
   "metadata": {},
   "outputs": [
    {
     "name": "stdout",
     "output_type": "stream",
     "text": [
      "labeling b'DsO' with [1, 3, 5, 7] and mod 8\n",
      "Valid labeling found!\n",
      "{0: 1, 1: 5, 2: 3, 3: 7, 4: 5}\n"
     ]
    }
   ],
   "source": [
    "import PiHarmoniousLabelingFinder as phlf\n",
    "import networkx as nx\n",
    "\n",
    "if __name__ == '__main__':\n",
    "    test_graph = nx.windmill_graph(2,4)\n",
    "    test_graph = nx.complete_multipartite_graph(1,3)\n",
    "    test_graph.add_edge(1,4)\n",
    "    u8 = [1, 3, 5, 7]\n",
    "    u21 = [1, 2, 4, 5, 8, 10, 11, 13, 16, 17, 19, 20]\n",
    "    u24 = [1, 5, 7, 11, 13, 17, 19, 23]\n",
    "    u13 = [1, 2, 3, 4, 5, 6, 7, 8, 9, 10, 11, 12]\n",
    "    u33 = [1, 2, 4, 5, 7, 8, 10, 13, 14, 16, 17, 19, 20, 23, 25, 26, 28, 29, 31, 32]\n",
    "    u15 = [1, 2, 4, 7, 8, 11, 13, 14]\n",
    "\n",
    "    # labels = u13\n",
    "    labels = u8\n",
    "    mod = max(labels)+1\n",
    "\n",
    "    print(f\"labeling {nx.to_graph6_bytes(test_graph, header=False).strip()} with {labels} and mod {mod}\")\n",
    "    phlf.get_labeling(test_graph, labels, mod)"
   ]
  }
 ],
 "metadata": {
  "kernelspec": {
   "display_name": "Python 3 (ipykernel)",
   "language": "python",
   "name": "python3"
  },
  "language_info": {
   "codemirror_mode": {
    "name": "ipython",
    "version": 3
   },
   "file_extension": ".py",
   "mimetype": "text/x-python",
   "name": "python",
   "nbconvert_exporter": "python",
   "pygments_lexer": "ipython3",
   "version": "3.9.13"
  }
 },
 "nbformat": 4,
 "nbformat_minor": 5
}
